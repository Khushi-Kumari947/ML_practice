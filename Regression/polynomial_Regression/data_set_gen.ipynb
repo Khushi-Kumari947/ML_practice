{
 "cells": [
  {
   "cell_type": "code",
   "execution_count": 1,
   "id": "6a9b582f",
   "metadata": {},
   "outputs": [],
   "source": [
    "import pandas as pd\n",
    "import numpy as np\n",
    "\n",
    "# Generate synthetic dataset (quadratic relation)\n",
    "np.random.seed(42)\n",
    "X = np.linspace(1, 10, 70)\n",
    "y = 3*X**2 + 2*X + 5 + np.random.normal(0, 15, 70)  # quadratic with noise\n",
    "\n",
    "# Create DataFrame\n",
    "df_poly = pd.DataFrame({\n",
    "    \"X\": X,\n",
    "    \"Y\": y\n",
    "})\n",
    "\n",
    "# Save to CSV\n",
    "df_poly.to_csv(\"polynomial_regression_dataset.csv\", index=False)\n"
   ]
  },
  {
   "cell_type": "code",
   "execution_count": null,
   "id": "5a75fc66",
   "metadata": {},
   "outputs": [],
   "source": []
  }
 ],
 "metadata": {
  "kernelspec": {
   "display_name": "Python 3",
   "language": "python",
   "name": "python3"
  },
  "language_info": {
   "codemirror_mode": {
    "name": "ipython",
    "version": 3
   },
   "file_extension": ".py",
   "mimetype": "text/x-python",
   "name": "python",
   "nbconvert_exporter": "python",
   "pygments_lexer": "ipython3",
   "version": "3.12.5"
  }
 },
 "nbformat": 4,
 "nbformat_minor": 5
}
